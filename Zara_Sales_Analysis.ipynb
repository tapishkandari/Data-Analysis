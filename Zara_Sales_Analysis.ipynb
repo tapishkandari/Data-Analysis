{
 "cells": [
  {
   "cell_type": "markdown",
   "id": "efaff942",
   "metadata": {},
   "source": [
    "# Analysis of Zara Sales"
   ]
  },
  {
   "cell_type": "code",
   "execution_count": 2,
   "id": "487feabf",
   "metadata": {},
   "outputs": [],
   "source": [
    "import pandas as pd \n",
    "import matplotlib.pyplot as plt\n",
    "import seaborn as sns"
   ]
  },
  {
   "cell_type": "code",
   "execution_count": 20,
   "id": "fb564a6b",
   "metadata": {},
   "outputs": [
    {
     "data": {
      "text/html": [
       "<div>\n",
       "<style scoped>\n",
       "    .dataframe tbody tr th:only-of-type {\n",
       "        vertical-align: middle;\n",
       "    }\n",
       "\n",
       "    .dataframe tbody tr th {\n",
       "        vertical-align: top;\n",
       "    }\n",
       "\n",
       "    .dataframe thead th {\n",
       "        text-align: right;\n",
       "    }\n",
       "</style>\n",
       "<table border=\"1\" class=\"dataframe\">\n",
       "  <thead>\n",
       "    <tr style=\"text-align: right;\">\n",
       "      <th></th>\n",
       "      <th>Product ID</th>\n",
       "      <th>Product Position</th>\n",
       "      <th>Promotion</th>\n",
       "      <th>Product Category</th>\n",
       "      <th>Seasonal</th>\n",
       "      <th>Sales Volume</th>\n",
       "      <th>brand</th>\n",
       "      <th>url</th>\n",
       "      <th>sku</th>\n",
       "      <th>name</th>\n",
       "      <th>description</th>\n",
       "      <th>price</th>\n",
       "      <th>currency</th>\n",
       "      <th>scraped_at</th>\n",
       "      <th>terms</th>\n",
       "      <th>section</th>\n",
       "    </tr>\n",
       "  </thead>\n",
       "  <tbody>\n",
       "    <tr>\n",
       "      <th>0</th>\n",
       "      <td>185102</td>\n",
       "      <td>Aisle</td>\n",
       "      <td>No</td>\n",
       "      <td>Clothing</td>\n",
       "      <td>No</td>\n",
       "      <td>2823</td>\n",
       "      <td>Zara</td>\n",
       "      <td>https://www.zara.com/us/en/basic-puffer-jacket...</td>\n",
       "      <td>272145190-250-2</td>\n",
       "      <td>BASIC PUFFER JACKET</td>\n",
       "      <td>Puffer jacket made of tear-resistant ripstop f...</td>\n",
       "      <td>19.99</td>\n",
       "      <td>USD</td>\n",
       "      <td>2024-02-19T08:50:05.654618</td>\n",
       "      <td>jackets</td>\n",
       "      <td>MAN</td>\n",
       "    </tr>\n",
       "    <tr>\n",
       "      <th>1</th>\n",
       "      <td>188771</td>\n",
       "      <td>Aisle</td>\n",
       "      <td>No</td>\n",
       "      <td>Clothing</td>\n",
       "      <td>No</td>\n",
       "      <td>654</td>\n",
       "      <td>Zara</td>\n",
       "      <td>https://www.zara.com/us/en/tuxedo-jacket-p0889...</td>\n",
       "      <td>324052738-800-46</td>\n",
       "      <td>TUXEDO JACKET</td>\n",
       "      <td>Straight fit blazer. Pointed lapel collar and ...</td>\n",
       "      <td>169.00</td>\n",
       "      <td>USD</td>\n",
       "      <td>2024-02-19T08:50:06.590930</td>\n",
       "      <td>jackets</td>\n",
       "      <td>MAN</td>\n",
       "    </tr>\n",
       "    <tr>\n",
       "      <th>2</th>\n",
       "      <td>180176</td>\n",
       "      <td>End-cap</td>\n",
       "      <td>Yes</td>\n",
       "      <td>Clothing</td>\n",
       "      <td>Yes</td>\n",
       "      <td>2220</td>\n",
       "      <td>Zara</td>\n",
       "      <td>https://www.zara.com/us/en/slim-fit-suit-jacke...</td>\n",
       "      <td>335342680-800-44</td>\n",
       "      <td>SLIM FIT SUIT JACKET</td>\n",
       "      <td>Slim fit jacket. Notched lapel collar. Long sl...</td>\n",
       "      <td>129.00</td>\n",
       "      <td>USD</td>\n",
       "      <td>2024-02-19T08:50:07.301419</td>\n",
       "      <td>jackets</td>\n",
       "      <td>MAN</td>\n",
       "    </tr>\n",
       "    <tr>\n",
       "      <th>3</th>\n",
       "      <td>112917</td>\n",
       "      <td>Aisle</td>\n",
       "      <td>Yes</td>\n",
       "      <td>Clothing</td>\n",
       "      <td>Yes</td>\n",
       "      <td>1568</td>\n",
       "      <td>Zara</td>\n",
       "      <td>https://www.zara.com/us/en/stretch-suit-jacket...</td>\n",
       "      <td>328303236-420-44</td>\n",
       "      <td>STRETCH SUIT JACKET</td>\n",
       "      <td>Slim fit jacket made of viscose blend fabric. ...</td>\n",
       "      <td>129.00</td>\n",
       "      <td>USD</td>\n",
       "      <td>2024-02-19T08:50:07.882922</td>\n",
       "      <td>jackets</td>\n",
       "      <td>MAN</td>\n",
       "    </tr>\n",
       "    <tr>\n",
       "      <th>4</th>\n",
       "      <td>192936</td>\n",
       "      <td>End-cap</td>\n",
       "      <td>No</td>\n",
       "      <td>Clothing</td>\n",
       "      <td>Yes</td>\n",
       "      <td>2942</td>\n",
       "      <td>Zara</td>\n",
       "      <td>https://www.zara.com/us/en/double-faced-jacket...</td>\n",
       "      <td>312368260-800-2</td>\n",
       "      <td>DOUBLE FACED JACKET</td>\n",
       "      <td>Jacket made of faux leather faux shearling wit...</td>\n",
       "      <td>139.00</td>\n",
       "      <td>USD</td>\n",
       "      <td>2024-02-19T08:50:08.453847</td>\n",
       "      <td>jackets</td>\n",
       "      <td>MAN</td>\n",
       "    </tr>\n",
       "    <tr>\n",
       "      <th>...</th>\n",
       "      <td>...</td>\n",
       "      <td>...</td>\n",
       "      <td>...</td>\n",
       "      <td>...</td>\n",
       "      <td>...</td>\n",
       "      <td>...</td>\n",
       "      <td>...</td>\n",
       "      <td>...</td>\n",
       "      <td>...</td>\n",
       "      <td>...</td>\n",
       "      <td>...</td>\n",
       "      <td>...</td>\n",
       "      <td>...</td>\n",
       "      <td>...</td>\n",
       "      <td>...</td>\n",
       "      <td>...</td>\n",
       "    </tr>\n",
       "    <tr>\n",
       "      <th>247</th>\n",
       "      <td>159182</td>\n",
       "      <td>Front of Store</td>\n",
       "      <td>Yes</td>\n",
       "      <td>Clothing</td>\n",
       "      <td>No</td>\n",
       "      <td>1014</td>\n",
       "      <td>Zara</td>\n",
       "      <td>https://www.zara.com/us/en/basic-100-wool-swea...</td>\n",
       "      <td>321993245-500-2</td>\n",
       "      <td>FAUX LEATHER OVERSIZED JACKET LIMITED EDITION</td>\n",
       "      <td>Jacket made of technical fabric with padded in...</td>\n",
       "      <td>169.00</td>\n",
       "      <td>USD</td>\n",
       "      <td>2024-02-19T09:10:43.883037</td>\n",
       "      <td>jackets</td>\n",
       "      <td>MAN</td>\n",
       "    </tr>\n",
       "    <tr>\n",
       "      <th>248</th>\n",
       "      <td>199233</td>\n",
       "      <td>Aisle</td>\n",
       "      <td>Yes</td>\n",
       "      <td>Clothing</td>\n",
       "      <td>No</td>\n",
       "      <td>2222</td>\n",
       "      <td>Zara</td>\n",
       "      <td>https://www.zara.com/us/en/colorblock-knit-cro...</td>\n",
       "      <td>330590505-500-2</td>\n",
       "      <td>CONTRASTING PATCHES BOMBER JACKET</td>\n",
       "      <td>Oversized jacket. Notched lapel collar and lon...</td>\n",
       "      <td>159.00</td>\n",
       "      <td>USD</td>\n",
       "      <td>2024-02-19T09:10:44.463883</td>\n",
       "      <td>jackets</td>\n",
       "      <td>MAN</td>\n",
       "    </tr>\n",
       "    <tr>\n",
       "      <th>249</th>\n",
       "      <td>137044</td>\n",
       "      <td>Aisle</td>\n",
       "      <td>No</td>\n",
       "      <td>Clothing</td>\n",
       "      <td>Yes</td>\n",
       "      <td>2534</td>\n",
       "      <td>Zara</td>\n",
       "      <td>https://www.zara.com/us/en/hooded-technical-ja...</td>\n",
       "      <td>320680326-107-39</td>\n",
       "      <td>PATCH BOMBER JACKET</td>\n",
       "      <td>Varsity jacket with elastic collar and long sl...</td>\n",
       "      <td>12.99</td>\n",
       "      <td>USD</td>\n",
       "      <td>2024-02-19T09:10:45.009106</td>\n",
       "      <td>jackets</td>\n",
       "      <td>MAN</td>\n",
       "    </tr>\n",
       "    <tr>\n",
       "      <th>250</th>\n",
       "      <td>154736</td>\n",
       "      <td>Front of Store</td>\n",
       "      <td>Yes</td>\n",
       "      <td>Clothing</td>\n",
       "      <td>Yes</td>\n",
       "      <td>1466</td>\n",
       "      <td>Zara</td>\n",
       "      <td>https://www.zara.com/us/en/houndstooth-suit-ja...</td>\n",
       "      <td>311292244-800-39</td>\n",
       "      <td>CROPPED BOMBER JACKET LIMITED EDITION</td>\n",
       "      <td>Varsity jacket with padded interior. Rib elast...</td>\n",
       "      <td>19.90</td>\n",
       "      <td>USD</td>\n",
       "      <td>2024-02-19T09:10:45.631804</td>\n",
       "      <td>jackets</td>\n",
       "      <td>MAN</td>\n",
       "    </tr>\n",
       "    <tr>\n",
       "      <th>251</th>\n",
       "      <td>141434</td>\n",
       "      <td>Front of Store</td>\n",
       "      <td>No</td>\n",
       "      <td>Clothing</td>\n",
       "      <td>Yes</td>\n",
       "      <td>2870</td>\n",
       "      <td>Zara</td>\n",
       "      <td>https://www.zara.com/us/en/bomber-jacket-p0534...</td>\n",
       "      <td>311307610-400-39</td>\n",
       "      <td>FAUX LEATHER PUFFER JACKET</td>\n",
       "      <td>Jacket with lightly padded interior. Rib colla...</td>\n",
       "      <td>39.90</td>\n",
       "      <td>USD</td>\n",
       "      <td>2024-02-19T09:10:31.877972</td>\n",
       "      <td>jackets</td>\n",
       "      <td>MAN</td>\n",
       "    </tr>\n",
       "  </tbody>\n",
       "</table>\n",
       "<p>252 rows × 16 columns</p>\n",
       "</div>"
      ],
      "text/plain": [
       "     Product ID Product Position Promotion Product Category Seasonal  \\\n",
       "0        185102            Aisle        No         Clothing       No   \n",
       "1        188771            Aisle        No         Clothing       No   \n",
       "2        180176          End-cap       Yes         Clothing      Yes   \n",
       "3        112917            Aisle       Yes         Clothing      Yes   \n",
       "4        192936          End-cap        No         Clothing      Yes   \n",
       "..          ...              ...       ...              ...      ...   \n",
       "247      159182   Front of Store       Yes         Clothing       No   \n",
       "248      199233            Aisle       Yes         Clothing       No   \n",
       "249      137044            Aisle        No         Clothing      Yes   \n",
       "250      154736   Front of Store       Yes         Clothing      Yes   \n",
       "251      141434   Front of Store        No         Clothing      Yes   \n",
       "\n",
       "     Sales Volume brand                                                url  \\\n",
       "0            2823  Zara  https://www.zara.com/us/en/basic-puffer-jacket...   \n",
       "1             654  Zara  https://www.zara.com/us/en/tuxedo-jacket-p0889...   \n",
       "2            2220  Zara  https://www.zara.com/us/en/slim-fit-suit-jacke...   \n",
       "3            1568  Zara  https://www.zara.com/us/en/stretch-suit-jacket...   \n",
       "4            2942  Zara  https://www.zara.com/us/en/double-faced-jacket...   \n",
       "..            ...   ...                                                ...   \n",
       "247          1014  Zara  https://www.zara.com/us/en/basic-100-wool-swea...   \n",
       "248          2222  Zara  https://www.zara.com/us/en/colorblock-knit-cro...   \n",
       "249          2534  Zara  https://www.zara.com/us/en/hooded-technical-ja...   \n",
       "250          1466  Zara  https://www.zara.com/us/en/houndstooth-suit-ja...   \n",
       "251          2870  Zara  https://www.zara.com/us/en/bomber-jacket-p0534...   \n",
       "\n",
       "                  sku                                           name  \\\n",
       "0     272145190-250-2                            BASIC PUFFER JACKET   \n",
       "1    324052738-800-46                                  TUXEDO JACKET   \n",
       "2    335342680-800-44                           SLIM FIT SUIT JACKET   \n",
       "3    328303236-420-44                            STRETCH SUIT JACKET   \n",
       "4     312368260-800-2                            DOUBLE FACED JACKET   \n",
       "..                ...                                            ...   \n",
       "247   321993245-500-2  FAUX LEATHER OVERSIZED JACKET LIMITED EDITION   \n",
       "248   330590505-500-2              CONTRASTING PATCHES BOMBER JACKET   \n",
       "249  320680326-107-39                            PATCH BOMBER JACKET   \n",
       "250  311292244-800-39          CROPPED BOMBER JACKET LIMITED EDITION   \n",
       "251  311307610-400-39                     FAUX LEATHER PUFFER JACKET   \n",
       "\n",
       "                                           description   price currency  \\\n",
       "0    Puffer jacket made of tear-resistant ripstop f...   19.99      USD   \n",
       "1    Straight fit blazer. Pointed lapel collar and ...  169.00      USD   \n",
       "2    Slim fit jacket. Notched lapel collar. Long sl...  129.00      USD   \n",
       "3    Slim fit jacket made of viscose blend fabric. ...  129.00      USD   \n",
       "4    Jacket made of faux leather faux shearling wit...  139.00      USD   \n",
       "..                                                 ...     ...      ...   \n",
       "247  Jacket made of technical fabric with padded in...  169.00      USD   \n",
       "248  Oversized jacket. Notched lapel collar and lon...  159.00      USD   \n",
       "249  Varsity jacket with elastic collar and long sl...   12.99      USD   \n",
       "250  Varsity jacket with padded interior. Rib elast...   19.90      USD   \n",
       "251  Jacket with lightly padded interior. Rib colla...   39.90      USD   \n",
       "\n",
       "                     scraped_at    terms section  \n",
       "0    2024-02-19T08:50:05.654618  jackets     MAN  \n",
       "1    2024-02-19T08:50:06.590930  jackets     MAN  \n",
       "2    2024-02-19T08:50:07.301419  jackets     MAN  \n",
       "3    2024-02-19T08:50:07.882922  jackets     MAN  \n",
       "4    2024-02-19T08:50:08.453847  jackets     MAN  \n",
       "..                          ...      ...     ...  \n",
       "247  2024-02-19T09:10:43.883037  jackets     MAN  \n",
       "248  2024-02-19T09:10:44.463883  jackets     MAN  \n",
       "249  2024-02-19T09:10:45.009106  jackets     MAN  \n",
       "250  2024-02-19T09:10:45.631804  jackets     MAN  \n",
       "251  2024-02-19T09:10:31.877972  jackets     MAN  \n",
       "\n",
       "[252 rows x 16 columns]"
      ]
     },
     "execution_count": 20,
     "metadata": {},
     "output_type": "execute_result"
    }
   ],
   "source": [
    "df = pd.read_csv(\"Zara.csv\",sep =';')\n",
    "df"
   ]
  },
  {
   "cell_type": "markdown",
   "id": "57e8eebd",
   "metadata": {},
   "source": [
    "# Product Distribution"
   ]
  },
  {
   "cell_type": "code",
   "execution_count": 33,
   "id": "21b82e52",
   "metadata": {},
   "outputs": [
    {
     "data": {
      "image/png": "[encoded data removed]",
      "text/plain": [
       "<Figure size 500x500 with 1 Axes>"
      ]
     },
     "metadata": {},
     "output_type": "display_data"
    }
   ],
   "source": [
    "plt.figure(figsize = (5,5))\n",
    "ax = sns.countplot(data = df, x=\"Product Position\")\n",
    "ax.bar_label(ax.containers[0])\n",
    "plt.show()"
   ]
  },
  {
   "cell_type": "code",
   "execution_count": null,
   "id": "820c15ee",
   "metadata": {},
   "outputs": [],
   "source": [
    "#Based on above chart we analysed that Products are placed more on Aisle Position."
   ]
  },
  {
   "cell_type": "markdown",
   "id": "d6c270b9",
   "metadata": {},
   "source": [
    "# Sales Based on Product Position"
   ]
  },
  {
   "cell_type": "code",
   "execution_count": 36,
   "id": "5222300d",
   "metadata": {},
   "outputs": [
    {
     "name": "stdout",
     "output_type": "stream",
     "text": [
      "                  Sales Volume\n",
      "Product Position              \n",
      "Aisle              1828.824742\n",
      "End-cap            1778.255814\n",
      "Front of Store     1873.144928\n"
     ]
    }
   ],
   "source": [
    "gp = df.groupby(\"Product Position\").agg({\"Sales Volume\":'mean'})\n",
    "print(gp)"
   ]
  },
  {
   "cell_type": "code",
   "execution_count": 37,
   "id": "a7f2398e",
   "metadata": {},
   "outputs": [
    {
     "data": {
      "image/png": "[encoded data removed]",
      "text/plain": [
       "<Figure size 400x400 with 2 Axes>"
      ]
     },
     "metadata": {},
     "output_type": "display_data"
    }
   ],
   "source": [
    "plt.figure(figsize = (4,4))\n",
    "sns.heatmap(gp, annot = True)\n",
    "plt.title(\"Sales based on Product Position\")\n",
    "plt.show()"
   ]
  },
  {
   "cell_type": "code",
   "execution_count": 38,
   "id": "e49e3c45",
   "metadata": {},
   "outputs": [],
   "source": [
    "#based on above chart we analysed that Products Sales volumes are largest when placed on front of Store"
   ]
  },
  {
   "cell_type": "markdown",
   "id": "eb35103c",
   "metadata": {},
   "source": [
    "# Sales Based on Terms"
   ]
  },
  {
   "cell_type": "code",
   "execution_count": 54,
   "id": "95bc9c11",
   "metadata": {},
   "outputs": [
    {
     "name": "stdout",
     "output_type": "stream",
     "text": [
      "['jackets', 'shoes', 'sweaters', 'jeans', 't-shirts']\n"
     ]
    }
   ],
   "source": [
    "my_list=list(df[\"terms\"].unique())\n",
    "print(my_list)"
   ]
  },
  {
   "cell_type": "code",
   "execution_count": 48,
   "id": "f07e9a1b",
   "metadata": {},
   "outputs": [
    {
     "name": "stdout",
     "output_type": "stream",
     "text": [
      "          Sales Volume\n",
      "terms                 \n",
      "jackets    1853.342857\n",
      "jeans      1665.000000\n",
      "shoes      1867.935484\n",
      "sweaters   1835.170732\n",
      "t-shirts   1676.156250\n"
     ]
    }
   ],
   "source": [
    "gp1 = df.groupby(\"terms\").agg({\"Sales Volume\":'mean'})\n",
    "print(gp1)"
   ]
  },
  {
   "cell_type": "code",
   "execution_count": 63,
   "id": "e42afeee",
   "metadata": {},
   "outputs": [
    {
     "data": {
      "image/png": "[encoded data removed]",
      "text/plain": [
       "<Figure size 640x480 with 1 Axes>"
      ]
     },
     "metadata": {},
     "output_type": "display_data"
    }
   ],
   "source": [
    "# new_list = [df[My_list[0]].count(),df[My_list[1]].count(),df[My_list[2]].count(),df[My_list[3]].count(),df[My_list[4]].count()]\n",
    "jackets = df[df['terms']=='jackets'].count()\n",
    "shoes = df[df['terms']=='shoes'].count()\n",
    "sweaters = df[df['terms']=='sweaters'].count()\n",
    "jeans = df[df['terms']=='jeans'].count()\n",
    "t_shirts = df[df['terms']=='t-shirts'].count()\n",
    "\n",
    "my_list1 = [jackets[\"terms\"],shoes[\"terms\"],sweaters[\"terms\"],jeans[\"terms\"],t_shirts[\"terms\"]]\n",
    "\n",
    "l = ['jackets','shoes','sweaters','jeans','t_shirts']\n",
    "\n",
    "plt.title(\"Sales based on terms\")\n",
    "plt.pie(my_list1, labels = l, autopct =\"%1.2f%%\")\n",
    "plt.show()"
   ]
  },
  {
   "cell_type": "code",
   "execution_count": null,
   "id": "368ed727",
   "metadata": {},
   "outputs": [],
   "source": [
    "#based on above graph it is clear that sales are maximum for jackets terms compared to others."
   ]
  },
  {
   "cell_type": "markdown",
   "id": "4ddbc122",
   "metadata": {},
   "source": [
    "# Sales based on section"
   ]
  },
  {
   "cell_type": "code",
   "execution_count": 68,
   "id": "0cace9d1",
   "metadata": {},
   "outputs": [
    {
     "name": "stdout",
     "output_type": "stream",
     "text": [
      "         Sales Volume\n",
      "section              \n",
      "MAN       1817.426606\n",
      "WOMAN     1863.941176\n"
     ]
    }
   ],
   "source": [
    "gp2 = df.groupby(\"section\").agg({\"Sales Volume\":'mean'})\n",
    "print(gp2)"
   ]
  },
  {
   "cell_type": "code",
   "execution_count": 72,
   "id": "19619465",
   "metadata": {},
   "outputs": [
    {
     "data": {
      "image/png": "[encoded data removed]",
      "text/plain": [
       "<Figure size 400x400 with 2 Axes>"
      ]
     },
     "metadata": {},
     "output_type": "display_data"
    }
   ],
   "source": [
    "plt.figure(figsize = (4,4))\n",
    "sns.heatmap(gp2, annot = True)\n",
    "plt.title(\"Sales based on section\")\n",
    "plt.show()"
   ]
  },
  {
   "cell_type": "code",
   "execution_count": null,
   "id": "41e3a526",
   "metadata": {},
   "outputs": [],
   "source": [
    "#based on the above chart woman section has high sales comapred to man section."
   ]
  }
 ],
 "metadata": {
  "kernelspec": {
   "display_name": "Python 3 (ipykernel)",
   "language": "python",
   "name": "python3"
  },
  "language_info": {
   "codemirror_mode": {
    "name": "ipython",
    "version": 3
   },
   "file_extension": ".py",
   "mimetype": "text/x-python",
   "name": "python",
   "nbconvert_exporter": "python",
   "pygments_lexer": "ipython3",
   "version": "3.11.5"
  }
 },
 "nbformat": 4,
 "nbformat_minor": 5
}
